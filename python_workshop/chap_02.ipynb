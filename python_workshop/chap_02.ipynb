{
 "cells": [
  {
   "cell_type": "markdown",
   "id": "1d76b4a5-1832-465c-b642-8b6765783228",
   "metadata": {},
   "source": [
    "# Python Structures"
   ]
  },
  {
   "cell_type": "markdown",
   "id": "87d53ff2-b492-4899-84a9-19a3b505dfdd",
   "metadata": {},
   "source": [
    "## Exercise 21: Working with Python lists"
   ]
  },
  {
   "cell_type": "code",
   "execution_count": 1,
   "id": "6ee5bf92-15ce-4598-9038-a98110e08cdf",
   "metadata": {},
   "outputs": [
    {
     "name": "stdout",
     "output_type": "stream",
     "text": [
      "['bread', 'milk', 'eggs']\n"
     ]
    }
   ],
   "source": [
    "shopping = ['bread', 'milk', 'eggs']\n",
    "print(shopping)"
   ]
  },
  {
   "cell_type": "code",
   "execution_count": 2,
   "id": "9a75eca6-f493-4377-94d8-974bc88bc688",
   "metadata": {},
   "outputs": [
    {
     "name": "stdout",
     "output_type": "stream",
     "text": [
      "bread\n",
      "milk\n",
      "eggs\n"
     ]
    }
   ],
   "source": [
    "for item in shopping:\n",
    "    print(item)"
   ]
  },
  {
   "cell_type": "markdown",
   "id": "9fa99b5d-7293-4e07-8643-c9dc5cce743b",
   "metadata": {},
   "source": [
    "## Exercise 22: Using a Nested List to Store Data from a Matrix"
   ]
  },
  {
   "cell_type": "code",
   "execution_count": 3,
   "id": "5ac1d4c4-aaa6-458a-a327-292898acefed",
   "metadata": {},
   "outputs": [],
   "source": [
    "m = [\n",
    "    [1,2,3],\n",
    "    [4,5,6]\n",
    "]"
   ]
  },
  {
   "cell_type": "code",
   "execution_count": 4,
   "id": "c3fc5f1f-9e36-4cda-b461-0cb3367d12de",
   "metadata": {},
   "outputs": [
    {
     "name": "stdout",
     "output_type": "stream",
     "text": [
      "5\n"
     ]
    }
   ],
   "source": [
    "print(m[1][1])"
   ]
  },
  {
   "cell_type": "code",
   "execution_count": 6,
   "id": "46982fc0-3cff-48ba-805e-de243f4d8f70",
   "metadata": {},
   "outputs": [
    {
     "name": "stdout",
     "output_type": "stream",
     "text": [
      "1 2 3 \n",
      "\n",
      "4 5 6 \n",
      "\n"
     ]
    }
   ],
   "source": [
    "for i in range(len(m)):\n",
    "    for j in range(len(m[i])):\n",
    "        print(m[i][j], end = \" \")\n",
    "    print('\\n')"
   ]
  },
  {
   "cell_type": "markdown",
   "id": "8a383355-2469-4458-b4db-f69eeef4a8bd",
   "metadata": {},
   "source": [
    "## Activity 6: Usinf Nested List to Store Employee Data\n",
    "\n",
    "|Name | Age | Department|\n",
    "|:----|----:|:----------|\n",
    "|John Mckee| 38 | Sales|\n",
    "|Lisa Crawford | 29 | Marketing |\n",
    "|Sujan Patel | 33 | HR |"
   ]
  },
  {
   "cell_type": "code",
   "execution_count": 7,
   "id": "de559f7e-d783-4850-a870-806c260a8088",
   "metadata": {},
   "outputs": [],
   "source": [
    "employees = [\n",
    "    ['John Mckee', 38, 'Sales'],\n",
    "    ['Lisa Crawford', 29, 'Marketing'],\n",
    "    ['Sujan Patel', 33, 'HR']\n",
    "]"
   ]
  },
  {
   "cell_type": "code",
   "execution_count": 8,
   "id": "8e98847f-c9d8-450e-acd6-6edd2aea9473",
   "metadata": {},
   "outputs": [
    {
     "name": "stdout",
     "output_type": "stream",
     "text": [
      "[['John Mckee', 38, 'Sales'], ['Lisa Crawford', 29, 'Marketing'], ['Sujan Patel', 33, 'HR']]\n"
     ]
    }
   ],
   "source": [
    "print(employees)"
   ]
  },
  {
   "cell_type": "code",
   "execution_count": 21,
   "id": "4465dc52-de1b-4c1a-8bc4-d0b447f22634",
   "metadata": {},
   "outputs": [],
   "source": [
    "def print_employee(index):\n",
    "    name, age, department = employees[index]\n",
    "    print(f\"Name: {name}\")\n",
    "    print(f\"Age: {age}\")\n",
    "    print(f\"Department: {department}\")\n",
    "    print('---------------------')"
   ]
  },
  {
   "cell_type": "code",
   "execution_count": 20,
   "id": "87d59558-7fbc-499c-aa85-ed3837fe84dd",
   "metadata": {},
   "outputs": [
    {
     "name": "stdout",
     "output_type": "stream",
     "text": [
      "Name: Lisa Crawford\n",
      "Age: 29\n",
      "Department: Marketing\n",
      "----------------------\n"
     ]
    }
   ],
   "source": [
    "print_employee(1)"
   ]
  },
  {
   "cell_type": "code",
   "execution_count": 22,
   "id": "ac4d0e85-fe4c-4033-bc23-533e48bf4b45",
   "metadata": {},
   "outputs": [
    {
     "name": "stdout",
     "output_type": "stream",
     "text": [
      "Name: John Mckee\n",
      "Age: 38\n",
      "Department: Sales\n",
      "---------------------\n",
      "Name: Lisa Crawford\n",
      "Age: 29\n",
      "Department: Marketing\n",
      "---------------------\n",
      "Name: Sujan Patel\n",
      "Age: 33\n",
      "Department: HR\n",
      "---------------------\n"
     ]
    }
   ],
   "source": [
    "for index in range(len(employees)):\n",
    "    print_employee(index)"
   ]
  },
  {
   "cell_type": "markdown",
   "id": "89a09392-5f13-4892-a712-2f18525a2f76",
   "metadata": {},
   "source": [
    "## Activity 7: Storing Company Employee Table Data Using a List and a Dictionary"
   ]
  },
  {
   "cell_type": "code",
   "execution_count": 23,
   "id": "cc7e40c9-e9a2-4d5f-ad43-ab8d5f74a6ea",
   "metadata": {},
   "outputs": [],
   "source": [
    "employees = []"
   ]
  },
  {
   "cell_type": "code",
   "execution_count": 24,
   "id": "6c4102fe-9a69-4531-817a-1a267a39503f",
   "metadata": {},
   "outputs": [],
   "source": [
    "employees.append({\n",
    "    'name': 'John Mackee',\n",
    "    'age': 38,\n",
    "    'department': 'Sales'\n",
    "})"
   ]
  },
  {
   "cell_type": "code",
   "execution_count": 26,
   "id": "7a4f0e86-4fe6-4716-b07a-ab01d0c0dea0",
   "metadata": {},
   "outputs": [],
   "source": [
    "employees.append({\n",
    "    'name': 'Lisa Crawford',\n",
    "    'age': 28,\n",
    "    'department': 'Marketing'\n",
    "})"
   ]
  },
  {
   "cell_type": "code",
   "execution_count": 27,
   "id": "6f23c9cb-c192-4998-a679-92c287a42ab6",
   "metadata": {},
   "outputs": [],
   "source": [
    "employees.append({\n",
    "    'name': 'Sujan Patel',\n",
    "    'age': 33,\n",
    "    'department': 'HR'\n",
    "})"
   ]
  },
  {
   "cell_type": "code",
   "execution_count": 32,
   "id": "96e13efd-5fe1-4779-9777-5c6a905c77d8",
   "metadata": {},
   "outputs": [
    {
     "name": "stdout",
     "output_type": "stream",
     "text": [
      "Name: John Mackee\n",
      "Age: 38\n",
      "Department: Sales\n",
      "----------------------\n",
      "Name: Lisa Crawford\n",
      "Age: 28\n",
      "Department: Marketing\n",
      "----------------------\n",
      "Name: Sujan Patel\n",
      "Age: 33\n",
      "Department: HR\n",
      "----------------------\n"
     ]
    }
   ],
   "source": [
    "for employee in employees:\n",
    "    for key, value in employee.items():\n",
    "        print(f\"{key.capitalize()}: {value}\")\n",
    "    print('-' * 22)"
   ]
  },
  {
   "cell_type": "code",
   "execution_count": 33,
   "id": "962608eb-b27d-45f6-924f-a229afb7df8f",
   "metadata": {},
   "outputs": [
    {
     "name": "stdout",
     "output_type": "stream",
     "text": [
      "Name: Sujan Patel\n",
      "Age: 33\n",
      "Department: HR\n",
      "----------------------\n"
     ]
    }
   ],
   "source": [
    "query_name = 'Sujan Patel'\n",
    "for employee in employees:\n",
    "    if (employee['name'] == query_name):\n",
    "        for key, value in employee.items():\n",
    "            print(f\"{key.capitalize()}: {value}\")\n",
    "        print('-' * 22)"
   ]
  },
  {
   "cell_type": "markdown",
   "id": "95c3a11a-aac4-44cd-9dfd-d98a5b5482d8",
   "metadata": {},
   "source": [
    "## Exercise 29: Using the zip() Method to Manipulate Dictionaries"
   ]
  },
  {
   "cell_type": "code",
   "execution_count": 34,
   "id": "68c5c2c0-b91d-4b2e-9821-ceb0c2e031c9",
   "metadata": {},
   "outputs": [],
   "source": [
    "items = ['apple', 'orange', 'banana']\n",
    "quantity = [5,3,2]"
   ]
  },
  {
   "cell_type": "code",
   "execution_count": 43,
   "id": "7267f861-79a3-4f6f-9c3d-1f9660a0b1c3",
   "metadata": {},
   "outputs": [
    {
     "name": "stdout",
     "output_type": "stream",
     "text": [
      "<zip object at 0x7ff06701be40>\n"
     ]
    }
   ],
   "source": [
    "orders = zip(items, quantity)\n",
    "print(orders)"
   ]
  },
  {
   "cell_type": "code",
   "execution_count": 45,
   "id": "bfd765b2-ee12-4d43-88a5-d3aca743f5ac",
   "metadata": {},
   "outputs": [
    {
     "name": "stdout",
     "output_type": "stream",
     "text": [
      "(('apple', 5), ('orange', 3), ('banana', 2))\n"
     ]
    }
   ],
   "source": [
    "orders = zip(items, quantity)\n",
    "print(tuple(orders))"
   ]
  },
  {
   "cell_type": "code",
   "execution_count": 46,
   "id": "77b6741e-6a1f-476b-b0fa-40b0acdbd405",
   "metadata": {},
   "outputs": [
    {
     "name": "stdout",
     "output_type": "stream",
     "text": [
      "{'apple': 5, 'orange': 3, 'banana': 2}\n"
     ]
    }
   ],
   "source": [
    "orders = zip(items, quantity)\n",
    "print(dict(orders))"
   ]
  },
  {
   "cell_type": "markdown",
   "id": "bdb94fdd-2da7-45c1-a583-064b42ecfc6c",
   "metadata": {},
   "source": [
    "## Exercise 30: Accessing a Dictionary Using Dictionary Methods"
   ]
  },
  {
   "cell_type": "code",
   "execution_count": 47,
   "id": "92c2abc4-1c1f-4b86-b9aa-fc403dc361f8",
   "metadata": {},
   "outputs": [
    {
     "name": "stdout",
     "output_type": "stream",
     "text": [
      "dict_values([5, 3, 2])\n"
     ]
    }
   ],
   "source": [
    "orders = {'apple': 5, 'orange': 3, 'bnana': 2}\n",
    "print(orders.values())"
   ]
  }
 ],
 "metadata": {
  "kernelspec": {
   "display_name": "ds39",
   "language": "python",
   "name": "ds39"
  },
  "language_info": {
   "codemirror_mode": {
    "name": "ipython",
    "version": 3
   },
   "file_extension": ".py",
   "mimetype": "text/x-python",
   "name": "python",
   "nbconvert_exporter": "python",
   "pygments_lexer": "ipython3",
   "version": "3.9.7"
  }
 },
 "nbformat": 4,
 "nbformat_minor": 5
}
