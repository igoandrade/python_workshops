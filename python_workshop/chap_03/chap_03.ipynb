{
 "cells": [
  {
   "cell_type": "markdown",
   "id": "b89ba135-3450-491b-9b29-487158775cfa",
   "metadata": {},
   "source": [
    "# Executing Python - Programs, Algorithms, and Functions"
   ]
  },
  {
   "cell_type": "markdown",
   "id": "b136bbab-270f-4da4-88e6-3f6c902bacb5",
   "metadata": {},
   "source": [
    "## Exercise 37: Finding the System Date"
   ]
  },
  {
   "cell_type": "code",
   "execution_count": null,
   "id": "5cd28f1d-ba0f-4d62-b4a7-55c068d2fb26",
   "metadata": {},
   "outputs": [],
   "source": [
    "import datetime"
   ]
  },
  {
   "cell_type": "code",
   "execution_count": null,
   "id": "622c96e9-9974-490d-94fa-6bdfa1647891",
   "metadata": {},
   "outputs": [],
   "source": [
    "print(datetime.date.today())"
   ]
  },
  {
   "cell_type": "markdown",
   "id": "2a888325-42e8-427a-bf39-3db5f1a513c3",
   "metadata": {},
   "source": [
    "## Activity 8: What's the time?"
   ]
  },
  {
   "cell_type": "code",
   "execution_count": null,
   "id": "94f18c68-6a2c-41a8-adae-ca5a8d75206a",
   "metadata": {},
   "outputs": [],
   "source": [
    "import current_time"
   ]
  },
  {
   "cell_type": "code",
   "execution_count": null,
   "id": "2a4c5743-977e-440f-b692-e4c70379c6e4",
   "metadata": {},
   "outputs": [],
   "source": [
    "current_time.now"
   ]
  },
  {
   "cell_type": "markdown",
   "id": "fccf5aa5-b779-4f38-89f3-24d295a83512",
   "metadata": {},
   "source": [
    "## Exercise 39: Using Bubble Sort in Python"
   ]
  },
  {
   "cell_type": "code",
   "execution_count": null,
   "id": "087fdc70-987d-40c9-a1ab-cd4fe85d45f3",
   "metadata": {},
   "outputs": [],
   "source": [
    "l = [5, 8, 1, 3, 2]"
   ]
  },
  {
   "cell_type": "code",
   "execution_count": null,
   "id": "78d51e7a-9963-4bc1-8bb0-0844ac8ecf63",
   "metadata": {},
   "outputs": [],
   "source": [
    "still_swapping = True"
   ]
  },
  {
   "cell_type": "code",
   "execution_count": null,
   "id": "3068f948-efef-4805-8f63-9d8d71eeb7c7",
   "metadata": {},
   "outputs": [],
   "source": [
    "while still_swapping:\n",
    "    still_swapping = False\n",
    "    for i in range(len(l) - 1):\n",
    "        if l[i] > l[i+1]:\n",
    "            l[i], l[i+1] = l[i+1], l[i]\n",
    "            still_swapping = True"
   ]
  },
  {
   "cell_type": "code",
   "execution_count": null,
   "id": "f411ab16-5123-43b4-868b-e7cd0dbb9b7c",
   "metadata": {},
   "outputs": [],
   "source": [
    "l"
   ]
  },
  {
   "cell_type": "markdown",
   "id": "32adfc2a-16b0-4ae2-9cfd-6094dd59bcc6",
   "metadata": {},
   "source": [
    "## Exercise 41: Binnary Search in Python"
   ]
  },
  {
   "cell_type": "code",
   "execution_count": null,
   "id": "871787b5-c929-4388-9f25-a827ec0f58e9",
   "metadata": {},
   "outputs": [],
   "source": [
    "l = [2, 3, 5, 8, 11, 12, 18]"
   ]
  },
  {
   "cell_type": "code",
   "execution_count": null,
   "id": "831849b6-410d-482a-be5c-a34f77430804",
   "metadata": {},
   "outputs": [],
   "source": [
    "search_for = 11"
   ]
  },
  {
   "cell_type": "code",
   "execution_count": null,
   "id": "8e14e223-7377-4107-826c-dc22eb204e95",
   "metadata": {},
   "outputs": [],
   "source": [
    "slice_start = 0\n",
    "slice_end = len(l) - 1"
   ]
  },
  {
   "cell_type": "code",
   "execution_count": null,
   "id": "abb45462-db89-4a52-9deb-efd33c2ddc32",
   "metadata": {},
   "outputs": [],
   "source": [
    "found = False"
   ]
  },
  {
   "cell_type": "code",
   "execution_count": null,
   "id": "5be8dfc1-a31a-4bff-a4ee-0b029c06e37b",
   "metadata": {},
   "outputs": [],
   "source": [
    "while slice_start <= slice_end and not found:\n",
    "    location = (slice_start + slice_end) // 2\n",
    "    if l[location] == search_for:\n",
    "        found = True\n",
    "    else:\n",
    "        if search_for < l[location]:\n",
    "            slice_end = location - 1\n",
    "        else:\n",
    "            slice_start = location + 1"
   ]
  },
  {
   "cell_type": "code",
   "execution_count": null,
   "id": "6dd9a922-b2df-4028-9f23-760b3a30e089",
   "metadata": {},
   "outputs": [],
   "source": [
    "print(found)"
   ]
  },
  {
   "cell_type": "code",
   "execution_count": null,
   "id": "67048fa3-85ac-45b5-8141-cb816896cc8a",
   "metadata": {},
   "outputs": [],
   "source": [
    "print(location)"
   ]
  },
  {
   "cell_type": "markdown",
   "id": "de71e9b8-eb9c-4466-a83b-846e240357ab",
   "metadata": {},
   "source": [
    "## Activity 9: Formatting Customer Names"
   ]
  },
  {
   "cell_type": "code",
   "execution_count": null,
   "id": "20b17850-e369-4a75-a6c0-aea4f1036015",
   "metadata": {},
   "outputs": [],
   "source": [
    "from customer import format_customer"
   ]
  },
  {
   "cell_type": "code",
   "execution_count": null,
   "id": "d709a0ed-d854-4aea-9fbf-8132e67b7bff",
   "metadata": {},
   "outputs": [],
   "source": [
    "format_customer('John', 'Smith', location='California')"
   ]
  },
  {
   "cell_type": "code",
   "execution_count": null,
   "id": "b35d7abd-4b06-428b-b205-de95964b0026",
   "metadata": {},
   "outputs": [],
   "source": [
    "format_customer('Mareike', 'Smith')"
   ]
  }
 ],
 "metadata": {
  "kernelspec": {
   "display_name": "ds39",
   "language": "python",
   "name": "ds39"
  },
  "language_info": {
   "codemirror_mode": {
    "name": "ipython",
    "version": 3
   },
   "file_extension": ".py",
   "mimetype": "text/x-python",
   "name": "python",
   "nbconvert_exporter": "python",
   "pygments_lexer": "ipython3",
   "version": "3.9.7"
  }
 },
 "nbformat": 4,
 "nbformat_minor": 5
}
